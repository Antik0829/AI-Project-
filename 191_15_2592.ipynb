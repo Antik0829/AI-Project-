{
  "nbformat": 4,
  "nbformat_minor": 0,
  "metadata": {
    "colab": {
      "name": "191-15-2592.ipynb",
      "provenance": [],
      "authorship_tag": "ABX9TyPWxQyZ4vPSnEgiuz/CsgK8",
      "include_colab_link": true
    },
    "kernelspec": {
      "name": "python3",
      "display_name": "Python 3"
    },
    "language_info": {
      "name": "python"
    }
  },
  "cells": [
    {
      "cell_type": "markdown",
      "metadata": {
        "id": "view-in-github",
        "colab_type": "text"
      },
      "source": [
        "<a href=\"https://colab.research.google.com/github/Antik0829/AI-Project-/blob/main/191_15_2592.ipynb\" target=\"_parent\"><img src=\"https://colab.research.google.com/assets/colab-badge.svg\" alt=\"Open In Colab\"/></a>"
      ]
    },
    {
      "cell_type": "code",
      "metadata": {
        "colab": {
          "base_uri": "https://localhost:8080/"
        },
        "id": "JcDqTmVA1vDJ",
        "outputId": "16607c64-0164-4896-c488-c7257967a5ab"
      },
      "source": [
        "from google.colab import drive\n",
        "drive.mount('/content/gdrive')"
      ],
      "execution_count": 11,
      "outputs": [
        {
          "output_type": "stream",
          "text": [
            "Drive already mounted at /content/gdrive; to attempt to forcibly remount, call drive.mount(\"/content/gdrive\", force_remount=True).\n"
          ],
          "name": "stdout"
        }
      ]
    },
    {
      "cell_type": "code",
      "metadata": {
        "colab": {
          "base_uri": "https://localhost:8080/"
        },
        "id": "EoBsg5ZD4xXS",
        "outputId": "44a55e8b-8c03-47f6-e902-c5bcd59ae023"
      },
      "source": [
        "!pip3 install catboost"
      ],
      "execution_count": 30,
      "outputs": [
        {
          "output_type": "stream",
          "text": [
            "Collecting catboost\n",
            "  Downloading catboost-0.26-cp37-none-manylinux1_x86_64.whl (69.2 MB)\n",
            "\u001b[K     |████████████████████████████████| 69.2 MB 5.5 kB/s \n",
            "\u001b[?25hRequirement already satisfied: plotly in /usr/local/lib/python3.7/dist-packages (from catboost) (4.4.1)\n",
            "Requirement already satisfied: matplotlib in /usr/local/lib/python3.7/dist-packages (from catboost) (3.2.2)\n",
            "Requirement already satisfied: graphviz in /usr/local/lib/python3.7/dist-packages (from catboost) (0.10.1)\n",
            "Requirement already satisfied: six in /usr/local/lib/python3.7/dist-packages (from catboost) (1.15.0)\n",
            "Requirement already satisfied: numpy>=1.16.0 in /usr/local/lib/python3.7/dist-packages (from catboost) (1.19.5)\n",
            "Requirement already satisfied: scipy in /usr/local/lib/python3.7/dist-packages (from catboost) (1.4.1)\n",
            "Requirement already satisfied: pandas>=0.24.0 in /usr/local/lib/python3.7/dist-packages (from catboost) (1.1.5)\n",
            "Requirement already satisfied: pytz>=2017.2 in /usr/local/lib/python3.7/dist-packages (from pandas>=0.24.0->catboost) (2018.9)\n",
            "Requirement already satisfied: python-dateutil>=2.7.3 in /usr/local/lib/python3.7/dist-packages (from pandas>=0.24.0->catboost) (2.8.1)\n",
            "Requirement already satisfied: pyparsing!=2.0.4,!=2.1.2,!=2.1.6,>=2.0.1 in /usr/local/lib/python3.7/dist-packages (from matplotlib->catboost) (2.4.7)\n",
            "Requirement already satisfied: kiwisolver>=1.0.1 in /usr/local/lib/python3.7/dist-packages (from matplotlib->catboost) (1.3.1)\n",
            "Requirement already satisfied: cycler>=0.10 in /usr/local/lib/python3.7/dist-packages (from matplotlib->catboost) (0.10.0)\n",
            "Requirement already satisfied: retrying>=1.3.3 in /usr/local/lib/python3.7/dist-packages (from plotly->catboost) (1.3.3)\n",
            "Installing collected packages: catboost\n",
            "Successfully installed catboost-0.26\n"
          ],
          "name": "stdout"
        }
      ]
    },
    {
      "cell_type": "code",
      "metadata": {
        "id": "3vYEq4z81_aG"
      },
      "source": [
        "import numpy as np\n",
        "import pandas as pd\n",
        "from sklearn.model_selection import train_test_split\n",
        "from  xgboost import XGBClassifier\n",
        "from scipy import stats\n",
        "from sklearn import metrics\n",
        "from sklearn.tree import DecisionTreeClassifier \n",
        "from sklearn.naive_bayes import GaussianNB\n",
        "from sklearn.neighbors import KNeighborsClassifier\n",
        "from sklearn.preprocessing import LabelEncoder\n",
        "import os\n",
        "from catboost import CatBoostClassifier"
      ],
      "execution_count": 31,
      "outputs": []
    },
    {
      "cell_type": "code",
      "metadata": {
        "id": "DxmLQiH52wYj"
      },
      "source": [
        "# for dirname, _, filenames in os.walk('/kaggle/input'):\n",
        "#     for filename in filenames:\n",
        "#         print(os.path.join(dirname, filename))"
      ],
      "execution_count": 34,
      "outputs": []
    },
    {
      "cell_type": "code",
      "metadata": {
        "id": "aJqOndna2xq5"
      },
      "source": [
        "data = pd.read_csv('/content/gdrive/MyDrive/Classroom/data mining lab/hypothyroid.csv')"
      ],
      "execution_count": 35,
      "outputs": []
    },
    {
      "cell_type": "code",
      "metadata": {
        "colab": {
          "base_uri": "https://localhost:8080/",
          "height": 241
        },
        "id": "0L3NQK3735el",
        "outputId": "c023ac98-b213-441b-83f8-fa351a5273ec"
      },
      "source": [
        "data.head()"
      ],
      "execution_count": 36,
      "outputs": [
        {
          "output_type": "execute_result",
          "data": {
            "text/html": [
              "<div>\n",
              "<style scoped>\n",
              "    .dataframe tbody tr th:only-of-type {\n",
              "        vertical-align: middle;\n",
              "    }\n",
              "\n",
              "    .dataframe tbody tr th {\n",
              "        vertical-align: top;\n",
              "    }\n",
              "\n",
              "    .dataframe thead th {\n",
              "        text-align: right;\n",
              "    }\n",
              "</style>\n",
              "<table border=\"1\" class=\"dataframe\">\n",
              "  <thead>\n",
              "    <tr style=\"text-align: right;\">\n",
              "      <th></th>\n",
              "      <th>Unnamed: 0</th>\n",
              "      <th>Age</th>\n",
              "      <th>Sex</th>\n",
              "      <th>on_thyroxine</th>\n",
              "      <th>query_on_thyroxine</th>\n",
              "      <th>on_antithyroid_medication</th>\n",
              "      <th>thyroid_surgery</th>\n",
              "      <th>query_hypothyroid</th>\n",
              "      <th>query_hyperthyroid</th>\n",
              "      <th>pregnant</th>\n",
              "      <th>sick</th>\n",
              "      <th>tumor</th>\n",
              "      <th>lithium</th>\n",
              "      <th>goitre</th>\n",
              "      <th>TSH_measured</th>\n",
              "      <th>TSH</th>\n",
              "      <th>T3_measured</th>\n",
              "      <th>T3</th>\n",
              "      <th>TT4_measured</th>\n",
              "      <th>TT4</th>\n",
              "      <th>T4U_measured</th>\n",
              "      <th>T4U</th>\n",
              "      <th>FTI_measured</th>\n",
              "      <th>FTI</th>\n",
              "      <th>TBG_measured</th>\n",
              "      <th>TBG</th>\n",
              "    </tr>\n",
              "  </thead>\n",
              "  <tbody>\n",
              "    <tr>\n",
              "      <th>0</th>\n",
              "      <td>hypothyroid</td>\n",
              "      <td>72</td>\n",
              "      <td>M</td>\n",
              "      <td>f</td>\n",
              "      <td>f</td>\n",
              "      <td>f</td>\n",
              "      <td>f</td>\n",
              "      <td>f</td>\n",
              "      <td>f</td>\n",
              "      <td>f</td>\n",
              "      <td>f</td>\n",
              "      <td>f</td>\n",
              "      <td>f</td>\n",
              "      <td>f</td>\n",
              "      <td>y</td>\n",
              "      <td>30</td>\n",
              "      <td>y</td>\n",
              "      <td>0.6</td>\n",
              "      <td>y</td>\n",
              "      <td>15</td>\n",
              "      <td>y</td>\n",
              "      <td>1.48</td>\n",
              "      <td>y</td>\n",
              "      <td>10</td>\n",
              "      <td>n</td>\n",
              "      <td>?</td>\n",
              "    </tr>\n",
              "    <tr>\n",
              "      <th>1</th>\n",
              "      <td>hypothyroid</td>\n",
              "      <td>15</td>\n",
              "      <td>F</td>\n",
              "      <td>t</td>\n",
              "      <td>f</td>\n",
              "      <td>f</td>\n",
              "      <td>f</td>\n",
              "      <td>f</td>\n",
              "      <td>f</td>\n",
              "      <td>f</td>\n",
              "      <td>f</td>\n",
              "      <td>f</td>\n",
              "      <td>f</td>\n",
              "      <td>f</td>\n",
              "      <td>y</td>\n",
              "      <td>145</td>\n",
              "      <td>y</td>\n",
              "      <td>1.7</td>\n",
              "      <td>y</td>\n",
              "      <td>19</td>\n",
              "      <td>y</td>\n",
              "      <td>1.13</td>\n",
              "      <td>y</td>\n",
              "      <td>17</td>\n",
              "      <td>n</td>\n",
              "      <td>?</td>\n",
              "    </tr>\n",
              "    <tr>\n",
              "      <th>2</th>\n",
              "      <td>hypothyroid</td>\n",
              "      <td>24</td>\n",
              "      <td>M</td>\n",
              "      <td>f</td>\n",
              "      <td>f</td>\n",
              "      <td>f</td>\n",
              "      <td>f</td>\n",
              "      <td>f</td>\n",
              "      <td>f</td>\n",
              "      <td>f</td>\n",
              "      <td>f</td>\n",
              "      <td>f</td>\n",
              "      <td>f</td>\n",
              "      <td>f</td>\n",
              "      <td>y</td>\n",
              "      <td>0</td>\n",
              "      <td>y</td>\n",
              "      <td>0.2</td>\n",
              "      <td>y</td>\n",
              "      <td>4</td>\n",
              "      <td>y</td>\n",
              "      <td>1</td>\n",
              "      <td>y</td>\n",
              "      <td>0</td>\n",
              "      <td>n</td>\n",
              "      <td>?</td>\n",
              "    </tr>\n",
              "    <tr>\n",
              "      <th>3</th>\n",
              "      <td>hypothyroid</td>\n",
              "      <td>24</td>\n",
              "      <td>F</td>\n",
              "      <td>f</td>\n",
              "      <td>f</td>\n",
              "      <td>f</td>\n",
              "      <td>f</td>\n",
              "      <td>f</td>\n",
              "      <td>f</td>\n",
              "      <td>f</td>\n",
              "      <td>f</td>\n",
              "      <td>f</td>\n",
              "      <td>f</td>\n",
              "      <td>f</td>\n",
              "      <td>y</td>\n",
              "      <td>430</td>\n",
              "      <td>y</td>\n",
              "      <td>0.4</td>\n",
              "      <td>y</td>\n",
              "      <td>6</td>\n",
              "      <td>y</td>\n",
              "      <td>1.04</td>\n",
              "      <td>y</td>\n",
              "      <td>6</td>\n",
              "      <td>n</td>\n",
              "      <td>?</td>\n",
              "    </tr>\n",
              "    <tr>\n",
              "      <th>4</th>\n",
              "      <td>hypothyroid</td>\n",
              "      <td>77</td>\n",
              "      <td>M</td>\n",
              "      <td>f</td>\n",
              "      <td>f</td>\n",
              "      <td>f</td>\n",
              "      <td>f</td>\n",
              "      <td>f</td>\n",
              "      <td>f</td>\n",
              "      <td>f</td>\n",
              "      <td>f</td>\n",
              "      <td>f</td>\n",
              "      <td>f</td>\n",
              "      <td>f</td>\n",
              "      <td>y</td>\n",
              "      <td>7.3</td>\n",
              "      <td>y</td>\n",
              "      <td>1.2</td>\n",
              "      <td>y</td>\n",
              "      <td>57</td>\n",
              "      <td>y</td>\n",
              "      <td>1.28</td>\n",
              "      <td>y</td>\n",
              "      <td>44</td>\n",
              "      <td>n</td>\n",
              "      <td>?</td>\n",
              "    </tr>\n",
              "  </tbody>\n",
              "</table>\n",
              "</div>"
            ],
            "text/plain": [
              "    Unnamed: 0 Age Sex on_thyroxine  ... FTI_measured FTI TBG_measured TBG\n",
              "0  hypothyroid  72   M            f  ...            y  10            n   ?\n",
              "1  hypothyroid  15   F            t  ...            y  17            n   ?\n",
              "2  hypothyroid  24   M            f  ...            y   0            n   ?\n",
              "3  hypothyroid  24   F            f  ...            y   6            n   ?\n",
              "4  hypothyroid  77   M            f  ...            y  44            n   ?\n",
              "\n",
              "[5 rows x 26 columns]"
            ]
          },
          "metadata": {
            "tags": []
          },
          "execution_count": 36
        }
      ]
    },
    {
      "cell_type": "code",
      "metadata": {
        "id": "9o74OjLz37YD"
      },
      "source": [
        "data=data.rename(columns={data.columns[0]:\"target\"})"
      ],
      "execution_count": 37,
      "outputs": []
    },
    {
      "cell_type": "code",
      "metadata": {
        "colab": {
          "base_uri": "https://localhost:8080/"
        },
        "id": "P9vt8p8C39W1",
        "outputId": "af8b7e04-9356-4c72-9d46-07769e97e596"
      },
      "source": [
        "data.isna().sum()"
      ],
      "execution_count": 38,
      "outputs": [
        {
          "output_type": "execute_result",
          "data": {
            "text/plain": [
              "target                       0\n",
              "Age                          0\n",
              "Sex                          0\n",
              "on_thyroxine                 0\n",
              "query_on_thyroxine           0\n",
              "on_antithyroid_medication    0\n",
              "thyroid_surgery              0\n",
              "query_hypothyroid            0\n",
              "query_hyperthyroid           0\n",
              "pregnant                     0\n",
              "sick                         0\n",
              "tumor                        0\n",
              "lithium                      0\n",
              "goitre                       0\n",
              "TSH_measured                 0\n",
              "TSH                          0\n",
              "T3_measured                  0\n",
              "T3                           0\n",
              "TT4_measured                 0\n",
              "TT4                          0\n",
              "T4U_measured                 0\n",
              "T4U                          0\n",
              "FTI_measured                 0\n",
              "FTI                          0\n",
              "TBG_measured                 0\n",
              "TBG                          0\n",
              "dtype: int64"
            ]
          },
          "metadata": {
            "tags": []
          },
          "execution_count": 38
        }
      ]
    },
    {
      "cell_type": "code",
      "metadata": {
        "colab": {
          "base_uri": "https://localhost:8080/"
        },
        "id": "xCbwuo5L4Ble",
        "outputId": "8f8c099a-dcdc-48c9-b52c-6d60b8bab8ac"
      },
      "source": [
        "for column in data.columns:\n",
        "    listOfValues=set(data[column])\n",
        "    print(column,\": \",listOfValues)"
      ],
      "execution_count": 39,
      "outputs": [
        {
          "output_type": "stream",
          "text": [
            "target :  {'hypothyroid', 'negative'}\n",
            "Age :  {'72', '92', '4', '7', '74', '26', '66', '53', '41', '56', '33', '47', '1', '13', '82', '45', '27', '14', '70', '97', '44', '76', '38', '61', '5', '30', '15', '71', '21', '78', '43', '34', '39', '83', '8', '54', '35', '37', '88', '93', '81', '68', '22', '23', '87', '79', '69', '80', '58', '?', '31', '63', '89', '75', '67', '19', '52', '60', '90', '85', '28', '32', '17', '98', '64', '77', '48', '51', '86', '9', '36', '62', '57', '12', '18', '46', '65', '10', '6', '40', '24', '59', '73', '29', '25', '50', '20', '42', '11', '84', '55', '16', '49'}\n",
            "Sex :  {'M', 'F', '?'}\n",
            "on_thyroxine :  {'t', 'f'}\n",
            "query_on_thyroxine :  {'t', 'f'}\n",
            "on_antithyroid_medication :  {'t', 'f'}\n",
            "thyroid_surgery :  {'t', 'f'}\n",
            "query_hypothyroid :  {'t', 'f'}\n",
            "query_hyperthyroid :  {'t', 'f'}\n",
            "pregnant :  {'t', 'f'}\n",
            "sick :  {'t', 'f'}\n",
            "tumor :  {'t', 'f'}\n",
            "lithium :  {'t', 'f'}\n",
            "goitre :  {'t', 'f'}\n",
            "TSH_measured :  {'y', 'n'}\n",
            "TSH :  {'2.6', '1.4', '4.3', '125', '0.04', '11.6', '2.2', '2.4', '288', '92', '5.8', '4', '0.2', '7.7', '0.83', '0.64', '4.9', '26', '3.4', '66', '176', '53', '41', '0.92', '0.08', '56', '33', '5.6', '15.3', '0.26', '0', '47', '1', '0.88', '9.8', '13', '1.8', '8.7', '82', '0.1', '0.23', '45', '27', '117', '14', '70', '7.6', '0.6', '7.9', '44', '0.15', '3.6', '76', '0.4', '13.3', '0.46', '5.1', '38', '0.81', '61', '5', '30', '4.4', '15', '71', '109', '2.7', '8.8', '0.01', '9.5', '21', '8.1', '5.5', '0.03', '43', '213', '34', '0.7', '6.7', '17.4', '39', '16.5', '7.1', '0.5', '8', '54', '0.9', '35', '6.3', '7.5', '37', '0.85', '11.4', '88', '9.4', '1.9', '14.3', '0.35', '2.5', '0.09', '6.9', '3.5', '430', '150', '138', '183', '6.6', '68', '22', '14.4', '23', '4.2', '19.2', '0.65', '80', '58', '?', '1.5', '31', '63', '89', '0.8', '6.1', '3.8', '4.1', '19', '0.28', '7.3', '52', '200', '6.2', '0.67', '1.83', '9.7', '60', '2.3', '2.8', '8.4', '90', '1.01', '4.5', '7.8', '2', '85', '28', '32', '6.5', '5.9', '17', '260', '1.1', '4.6', '0.25', '143', '96', '7.4', '164', '14.9', '145', '0.62', '0.07', '0.69', '0.77', '9.2', '0.05', '8.3', '0.84', '6.8', '140', '2.9', '4.8', '3.1', '0.37', '0.21', '9.9', '8.9', '0.43', '48', '77', '2.1', '86', '9', '160', '13.2', '36', '0.91', '57', '126', '12', '216', '3.3', '6.4', '18', '46', '65', '1.3', '1.2', '3', '178', '3.2', '10', '3.7', '8.5', '10.3', '0.3', '1.6', '10.7', '6', '0.02', '100', '40', '165', '235', '24', '0.42', '9.6', '153', '1.05', '59', '29', '530', '25', '1.7', '9.1', '0.68', '170', '20', '50', '5.2', '42', '3.9', '11', '55', '4.7', '16', '8.6', '8.2', '0.06', '49', '5.4'}\n",
            "T3_measured :  {'y', 'n'}\n",
            "T3 :  {'2.6', '1.4', '4.3', '2.1', '8.9', '4.2', '2.2', '2.4', '5', '4', '7', '4.4', '?', '0.2', '1.5', '3.3', '5.3', '0.8', '6.1', '5.1', '3.8', '4.1', '1.3', '1.2', '7.3', '6.2', '4.9', '3', '2.7', '3.2', '3.7', '3.4', '2.3', '2.8', '5.5', '8.1', '4.5', '0.3', '1.6', '5.6', '2', '0', '0.7', '1', '6.7', '9.8', '1.8', '0.1', '0.5', '10.2', '0.9', '1.1', '4.6', '7.6', '0.6', '1.7', '5.2', '1.9', '3.9', '4.8', '3.6', '2.5', '0.05', '4.7', '8.6', '3.5', '0.4', '2.9', '6.6', '3.1'}\n",
            "TT4_measured :  {'y', 'n'}\n",
            "TT4 :  {'197', '125', '139', '72', '92', '181', '4', '187', '121', '177', '124', '252', '275', '74', '142', '188', '287', '174', '66', '176', '53', '41', '166', '56', '33', '118', '218', '173', '228', '263', '115', '47', '179', '13', '147', '82', '45', '27', '117', '14', '70', '7.6', '194', '250', '97', '269', '256', '171', '44', '128', '76', '203', '253', '224', '189', '247', '426', '217', '130', '161', '199', '38', '207', '61', '104', '359', '30', '15', '396', '107', '91', '71', '191', '301', '236', '109', '220', '103', '127', '267', '8.1', '21', '193', '149', '141', '196', '333', '134', '78', '240', '129', '43', '94', '175', '213', '34', '210', '39', '83', '244', '152', '54', '159', '154', '35', '241', '7.5', '37', '245', '88', '211', '144', '185', '204', '108', '93', '201', '254', '206', '198', '430', '81', '150', '138', '6.6', '123', '183', '22', '68', '296', '23', '87', '79', '212', '225', '258', '219', '131', '80', '69', '58', '?', '242', '31', '63', '89', '172', '4.1', '75', '19', '113', '67', '52', '116', '7.3', '200', '222', '9.7', '184', '2.3', '60', '133', '90', '186', '122', '180', '2', '85', '282', '28', '32', '157', '205', '102', '17', '101', '260', '232', '239', '182', '98', '114', '143', '155', '96', '190', '164', '145', '136', '230', '151', '105', '140', '2.9', '64', '195', '255', '261', '48', '86', '77', '223', '9', '160', '208', '36', '111', '51', '62', '106', '57', '12', '126', '283', '216', '5.3', '110', '99', '18', '46', '65', '162', '3', '178', '10', '120', '132', '158', '308', '214', '209', '167', '137', '6', '248', '40', '100', '165', '169', '146', '235', '24', '153', '95', '202', '59', '168', '73', '29', '25', '112', '50', '163', '119', '20', '170', '148', '450', '3.9', '42', '11', '84', '55', '135', '16', '8.6', '221', '156', '49'}\n",
            "T4U_measured :  {'y', 'n'}\n",
            "T4U :  {'0.63', '1.4', '0.2', '0.83', '1.29', '1.27', '1.46', '0.64', '0.48', '1.44', '1.42', '1.21', '1.16', '1.24', '1.94', '0.92', '1.75', '1.02', '1.06', '0', '1', '0.88', '0.34', '1.8', '1.47', '1.38', '0.97', '0.6', '0.41', '1.93', '0.52', '1.71', '1.04', '0.4', '1.39', '1.14', '0.46', '0.27', '0.81', '1.41', '1.23', '0.98', '1.12', '0.61', '1.18', '0.29', '1.52', '1.57', '0.71', '1.03', '0.49', '1.63', '1.32', '0.7', '1.69', '0.5', '0.9', '1.74', '1.37', '0.85', '1.62', '1.72', '2.03', '0.35', '0.75', '1.45', '0.59', '0.32', '1.09', '1.07', '0.53', '1.79', '1.34', '1.28', '1.54', '2.21', '0.33', '0.65', '1.68', '1.58', '1.5', '?', '0.8', '1.17', '0.86', '1.08', '0.72', '0.28', '0.67', '0.93', '1.83', '2.01', '1.96', '1.43', '0.82', '1.01', '1.88', '1.36', '0.95', '1.25', '2', '0.78', '0.73', '1.73', '0.99', '1.1', '1.77', '1.13', '1.26', '0.77', '0.62', '0.79', '0.69', '0.36', '0.84', '0.55', '0.54', '1.76', '1.86', '1.33', '1.31', '0.31', '1.65', '0.91', '1.49', '0.87', '1.22', '1.67', '1.64', '1.48', '0.76', '0.58', '1.3', '1.2', '1.61', '0.38', '1.97', '0.74', '0.66', '0.56', '0.94', '0.3', '1.66', '1.55', '1.56', '1.35', '0.96', '1.19', '1.05', '0.47', '1.7', '0.68', '1.51', '1.59', '0.57', '0.89', '1.15', '1.11', '1.53'}\n",
            "FTI_measured :  {'y', 'n'}\n",
            "FTI :  {'257', '1.4', '197', '125', '249', '72', '139', '92', '181', '4', '7', '121', '187', '334', '345', '177', '124', '74', '188', '142', '852', '174', '266', '26', '3.4', '66', '176', '41', '53', '166', '56', '33', '118', '228', '173', '292', '263', '0', '218', '115', '47', '305', '179', '13', '147', '8.7', '82', '45', '117', '227', '14', '70', '237', '194', '250', '97', '395', '634', '256', '171', '44', '299', '128', '76', '229', '203', '189', '247', '217', '130', '161', '104', '61', '5', '359', '15', '107', '711', '91', '71', '109', '220', '103', '127', '149', '21', '141', '5.5', '196', '240', '193', '134', '78', '129', '43', '94', '175', '213', '34', '210', '244', '83', '39', '152', '54', '159', '154', '35', '241', '7.5', '37', '445', '88', '211', '144', '185', '204', '108', '93', '7.2', '254', '198', '81', '150', '138', '6.6', '123', '428', '22', '68', '839', '246', '23', '87', '79', '212', '258', '219', '131', '80', '69', '58', '272', '470', '?', '702', '31', '63', '347', '89', '172', '75', '113', '67', '116', '271', '52', '200', '19', '222', '184', '612', '2.8', '60', '133', '8.4', '90', '264', '186', '122', '180', '2', '85', '28', '32', '205', '157', '102', '17', '101', '259', '232', '550', '192', '239', '182', '98', '114', '143', '155', '354', '96', '190', '485', '164', '741', '145', '136', '151', '355', '105', '140', '881', '64', '615', '195', '316', '8.9', '48', '51', '77', '86', '9', '160', '208', '36', '111', '283', '106', '223', '57', '12', '126', '216', '99', '110', '332', '46', '65', '482', '162', '3', '178', '10', '120', '132', '158', '214', '308', '337', '8.5', '209', '215', '167', '137', '6', '248', '40', '100', '165', '169', '146', '235', '24', '153', '95', '168', '59', '202', '29', '73', '112', '650', '50', '163', '119', '20', '170', '148', '370', '450', '42', '11', '55', '84', '135', '695', '16', '221', '156', '49'}\n",
            "TBG_measured :  {'y', 'n'}\n",
            "TBG :  {'22', '48', '23', '86', '38', '36', '80', '69', '30', '12', '?', '9.3', '31', '63', '15', '110', '18', '65', '19', '52', '7.3', '26', '21', '41', '53', '8.4', '8.5', '33', '43', '122', '0', '34', '28', '40', '32', '47', '39', '13', '17', '24', '45', '27', '35', '14', '29', '37', '25', '50', '20', '11', '108', '16', '3.1'}\n"
          ],
          "name": "stdout"
        }
      ]
    },
    {
      "cell_type": "code",
      "metadata": {
        "colab": {
          "base_uri": "https://localhost:8080/"
        },
        "id": "buKVmPq24DlK",
        "outputId": "36c6cb69-6706-4daa-c7d4-d6c336e135c5"
      },
      "source": [
        "data=data.replace({\"?\":np.NAN})\n",
        "data.isna().sum()"
      ],
      "execution_count": 40,
      "outputs": [
        {
          "output_type": "execute_result",
          "data": {
            "text/plain": [
              "target                          0\n",
              "Age                           446\n",
              "Sex                            73\n",
              "on_thyroxine                    0\n",
              "query_on_thyroxine              0\n",
              "on_antithyroid_medication       0\n",
              "thyroid_surgery                 0\n",
              "query_hypothyroid               0\n",
              "query_hyperthyroid              0\n",
              "pregnant                        0\n",
              "sick                            0\n",
              "tumor                           0\n",
              "lithium                         0\n",
              "goitre                          0\n",
              "TSH_measured                    0\n",
              "TSH                           468\n",
              "T3_measured                     0\n",
              "T3                            695\n",
              "TT4_measured                    0\n",
              "TT4                           249\n",
              "T4U_measured                    0\n",
              "T4U                           248\n",
              "FTI_measured                    0\n",
              "FTI                           247\n",
              "TBG_measured                    0\n",
              "TBG                          2903\n",
              "dtype: int64"
            ]
          },
          "metadata": {
            "tags": []
          },
          "execution_count": 40
        }
      ]
    },
    {
      "cell_type": "code",
      "metadata": {
        "id": "lXVsRuIm4G7r"
      },
      "source": [
        "del data[\"TBG\"]"
      ],
      "execution_count": 41,
      "outputs": []
    },
    {
      "cell_type": "code",
      "metadata": {
        "colab": {
          "base_uri": "https://localhost:8080/"
        },
        "id": "4npjZU7J4LEA",
        "outputId": "343fe1ce-1269-4f9b-9dfc-50870a4a851d"
      },
      "source": [
        "data.dropna(axis = 0, thresh = 21, inplace = True)\n",
        "data.isna().sum()"
      ],
      "execution_count": 42,
      "outputs": [
        {
          "output_type": "execute_result",
          "data": {
            "text/plain": [
              "target                         0\n",
              "Age                          418\n",
              "Sex                           68\n",
              "on_thyroxine                   0\n",
              "query_on_thyroxine             0\n",
              "on_antithyroid_medication      0\n",
              "thyroid_surgery                0\n",
              "query_hypothyroid              0\n",
              "query_hyperthyroid             0\n",
              "pregnant                       0\n",
              "sick                           0\n",
              "tumor                          0\n",
              "lithium                        0\n",
              "goitre                         0\n",
              "TSH_measured                   0\n",
              "TSH                          222\n",
              "T3_measured                    0\n",
              "T3                           449\n",
              "TT4_measured                   0\n",
              "TT4                            3\n",
              "T4U_measured                   0\n",
              "T4U                            2\n",
              "FTI_measured                   0\n",
              "FTI                            1\n",
              "TBG_measured                   0\n",
              "dtype: int64"
            ]
          },
          "metadata": {
            "tags": []
          },
          "execution_count": 42
        }
      ]
    },
    {
      "cell_type": "code",
      "metadata": {
        "colab": {
          "base_uri": "https://localhost:8080/",
          "height": 459
        },
        "id": "Ju2vn62N4MfB",
        "outputId": "6f053000-8fb8-4c2a-a138-78c0fccf1b43"
      },
      "source": [
        "data = data.replace({\"t\":1,\"f\":0, \"y\":1, \"n\":0, \"hypothyroid\":1, \"negative\":0, \"F\":1, \"M\":0})\n",
        "display(data.dtypes)"
      ],
      "execution_count": 43,
      "outputs": [
        {
          "output_type": "display_data",
          "data": {
            "text/plain": [
              "target                         int64\n",
              "Age                           object\n",
              "Sex                          float64\n",
              "on_thyroxine                   int64\n",
              "query_on_thyroxine             int64\n",
              "on_antithyroid_medication      int64\n",
              "thyroid_surgery                int64\n",
              "query_hypothyroid              int64\n",
              "query_hyperthyroid             int64\n",
              "pregnant                       int64\n",
              "sick                           int64\n",
              "tumor                          int64\n",
              "lithium                        int64\n",
              "goitre                         int64\n",
              "TSH_measured                   int64\n",
              "TSH                           object\n",
              "T3_measured                    int64\n",
              "T3                            object\n",
              "TT4_measured                   int64\n",
              "TT4                           object\n",
              "T4U_measured                   int64\n",
              "T4U                           object\n",
              "FTI_measured                   int64\n",
              "FTI                           object\n",
              "TBG_measured                   int64\n",
              "dtype: object"
            ]
          },
          "metadata": {
            "tags": []
          }
        }
      ]
    },
    {
      "cell_type": "code",
      "metadata": {
        "colab": {
          "base_uri": "https://localhost:8080/"
        },
        "id": "p-I6Di3A4NCu",
        "outputId": "29c3613c-642c-4743-9370-9b10e2639230"
      },
      "source": [
        "cols = data.columns[data.dtypes.eq('object')]\n",
        "data[cols] = data[cols].apply(pd.to_numeric, errors='coerce')\n",
        "\n",
        "data = data.interpolate(method = 'spline', order = 4)\n",
        "data.isna().sum()"
      ],
      "execution_count": 44,
      "outputs": [
        {
          "output_type": "execute_result",
          "data": {
            "text/plain": [
              "target                       0\n",
              "Age                          0\n",
              "Sex                          0\n",
              "on_thyroxine                 0\n",
              "query_on_thyroxine           0\n",
              "on_antithyroid_medication    0\n",
              "thyroid_surgery              0\n",
              "query_hypothyroid            0\n",
              "query_hyperthyroid           0\n",
              "pregnant                     0\n",
              "sick                         0\n",
              "tumor                        0\n",
              "lithium                      0\n",
              "goitre                       0\n",
              "TSH_measured                 0\n",
              "TSH                          0\n",
              "T3_measured                  0\n",
              "T3                           0\n",
              "TT4_measured                 0\n",
              "TT4                          0\n",
              "T4U_measured                 0\n",
              "T4U                          0\n",
              "FTI_measured                 0\n",
              "FTI                          0\n",
              "TBG_measured                 0\n",
              "dtype: int64"
            ]
          },
          "metadata": {
            "tags": []
          },
          "execution_count": 44
        }
      ]
    },
    {
      "cell_type": "code",
      "metadata": {
        "colab": {
          "base_uri": "https://localhost:8080/",
          "height": 282
        },
        "id": "oZDcvSPK4RBC",
        "outputId": "6daa211d-8eba-4eae-e292-eb45d3276845"
      },
      "source": [
        "data[['Age','TSH','T3','TT4','T4U','FTI']].boxplot()"
      ],
      "execution_count": 45,
      "outputs": [
        {
          "output_type": "execute_result",
          "data": {
            "text/plain": [
              "<matplotlib.axes._subplots.AxesSubplot at 0x7fed37fbed10>"
            ]
          },
          "metadata": {
            "tags": []
          },
          "execution_count": 45
        },
        {
          "output_type": "display_data",
          "data": {
            "image/png": "[encoded data removed]",
            "text/plain": [
              "<Figure size 432x288 with 1 Axes>"
            ]
          },
          "metadata": {
            "tags": [],
            "needs_background": "light"
          }
        }
      ]
    },
    {
      "cell_type": "code",
      "metadata": {
        "colab": {
          "base_uri": "https://localhost:8080/",
          "height": 224
        },
        "id": "yJAS8KnE4RzN",
        "outputId": "042102f3-10c7-4bf8-d7ee-0cb2b9d1d46a"
      },
      "source": [
        "def fdiscretizer(attribute,dataframe):\n",
        "    enc = LabelEncoder()\n",
        "    dataframe[attribute] = pd.qcut(dataframe[attribute], 10, duplicates='drop')\n",
        "    dataframe[attribute] = enc.fit_transform(dataframe[attribute])\n",
        "    dataframe = dataframe.convert_dtypes(convert_integer=True)\n",
        "\n",
        "fdiscretizer('Age',data)\n",
        "fdiscretizer('TSH',data)\n",
        "fdiscretizer('T3',data)\n",
        "fdiscretizer('TT4',data)\n",
        "fdiscretizer('T4U',data)\n",
        "fdiscretizer('FTI',data)\n",
        "\n",
        "display(data.head())"
      ],
      "execution_count": 46,
      "outputs": [
        {
          "output_type": "display_data",
          "data": {
            "text/html": [
              "<div>\n",
              "<style scoped>\n",
              "    .dataframe tbody tr th:only-of-type {\n",
              "        vertical-align: middle;\n",
              "    }\n",
              "\n",
              "    .dataframe tbody tr th {\n",
              "        vertical-align: top;\n",
              "    }\n",
              "\n",
              "    .dataframe thead th {\n",
              "        text-align: right;\n",
              "    }\n",
              "</style>\n",
              "<table border=\"1\" class=\"dataframe\">\n",
              "  <thead>\n",
              "    <tr style=\"text-align: right;\">\n",
              "      <th></th>\n",
              "      <th>target</th>\n",
              "      <th>Age</th>\n",
              "      <th>Sex</th>\n",
              "      <th>on_thyroxine</th>\n",
              "      <th>query_on_thyroxine</th>\n",
              "      <th>on_antithyroid_medication</th>\n",
              "      <th>thyroid_surgery</th>\n",
              "      <th>query_hypothyroid</th>\n",
              "      <th>query_hyperthyroid</th>\n",
              "      <th>pregnant</th>\n",
              "      <th>sick</th>\n",
              "      <th>tumor</th>\n",
              "      <th>lithium</th>\n",
              "      <th>goitre</th>\n",
              "      <th>TSH_measured</th>\n",
              "      <th>TSH</th>\n",
              "      <th>T3_measured</th>\n",
              "      <th>T3</th>\n",
              "      <th>TT4_measured</th>\n",
              "      <th>TT4</th>\n",
              "      <th>T4U_measured</th>\n",
              "      <th>T4U</th>\n",
              "      <th>FTI_measured</th>\n",
              "      <th>FTI</th>\n",
              "      <th>TBG_measured</th>\n",
              "    </tr>\n",
              "  </thead>\n",
              "  <tbody>\n",
              "    <tr>\n",
              "      <th>0</th>\n",
              "      <td>1</td>\n",
              "      <td>8</td>\n",
              "      <td>0.0</td>\n",
              "      <td>0</td>\n",
              "      <td>0</td>\n",
              "      <td>0</td>\n",
              "      <td>0</td>\n",
              "      <td>0</td>\n",
              "      <td>0</td>\n",
              "      <td>0</td>\n",
              "      <td>0</td>\n",
              "      <td>0</td>\n",
              "      <td>0</td>\n",
              "      <td>0</td>\n",
              "      <td>1</td>\n",
              "      <td>7</td>\n",
              "      <td>1</td>\n",
              "      <td>0</td>\n",
              "      <td>1</td>\n",
              "      <td>0</td>\n",
              "      <td>1</td>\n",
              "      <td>9</td>\n",
              "      <td>1</td>\n",
              "      <td>0</td>\n",
              "      <td>0</td>\n",
              "    </tr>\n",
              "    <tr>\n",
              "      <th>1</th>\n",
              "      <td>1</td>\n",
              "      <td>0</td>\n",
              "      <td>1.0</td>\n",
              "      <td>1</td>\n",
              "      <td>0</td>\n",
              "      <td>0</td>\n",
              "      <td>0</td>\n",
              "      <td>0</td>\n",
              "      <td>0</td>\n",
              "      <td>0</td>\n",
              "      <td>0</td>\n",
              "      <td>0</td>\n",
              "      <td>0</td>\n",
              "      <td>0</td>\n",
              "      <td>1</td>\n",
              "      <td>7</td>\n",
              "      <td>1</td>\n",
              "      <td>3</td>\n",
              "      <td>1</td>\n",
              "      <td>0</td>\n",
              "      <td>1</td>\n",
              "      <td>8</td>\n",
              "      <td>1</td>\n",
              "      <td>0</td>\n",
              "      <td>0</td>\n",
              "    </tr>\n",
              "    <tr>\n",
              "      <th>2</th>\n",
              "      <td>1</td>\n",
              "      <td>0</td>\n",
              "      <td>0.0</td>\n",
              "      <td>0</td>\n",
              "      <td>0</td>\n",
              "      <td>0</td>\n",
              "      <td>0</td>\n",
              "      <td>0</td>\n",
              "      <td>0</td>\n",
              "      <td>0</td>\n",
              "      <td>0</td>\n",
              "      <td>0</td>\n",
              "      <td>0</td>\n",
              "      <td>0</td>\n",
              "      <td>1</td>\n",
              "      <td>0</td>\n",
              "      <td>1</td>\n",
              "      <td>0</td>\n",
              "      <td>1</td>\n",
              "      <td>0</td>\n",
              "      <td>1</td>\n",
              "      <td>5</td>\n",
              "      <td>1</td>\n",
              "      <td>0</td>\n",
              "      <td>0</td>\n",
              "    </tr>\n",
              "    <tr>\n",
              "      <th>3</th>\n",
              "      <td>1</td>\n",
              "      <td>0</td>\n",
              "      <td>1.0</td>\n",
              "      <td>0</td>\n",
              "      <td>0</td>\n",
              "      <td>0</td>\n",
              "      <td>0</td>\n",
              "      <td>0</td>\n",
              "      <td>0</td>\n",
              "      <td>0</td>\n",
              "      <td>0</td>\n",
              "      <td>0</td>\n",
              "      <td>0</td>\n",
              "      <td>0</td>\n",
              "      <td>1</td>\n",
              "      <td>7</td>\n",
              "      <td>1</td>\n",
              "      <td>0</td>\n",
              "      <td>1</td>\n",
              "      <td>0</td>\n",
              "      <td>1</td>\n",
              "      <td>6</td>\n",
              "      <td>1</td>\n",
              "      <td>0</td>\n",
              "      <td>0</td>\n",
              "    </tr>\n",
              "    <tr>\n",
              "      <th>4</th>\n",
              "      <td>1</td>\n",
              "      <td>8</td>\n",
              "      <td>0.0</td>\n",
              "      <td>0</td>\n",
              "      <td>0</td>\n",
              "      <td>0</td>\n",
              "      <td>0</td>\n",
              "      <td>0</td>\n",
              "      <td>0</td>\n",
              "      <td>0</td>\n",
              "      <td>0</td>\n",
              "      <td>0</td>\n",
              "      <td>0</td>\n",
              "      <td>0</td>\n",
              "      <td>1</td>\n",
              "      <td>6</td>\n",
              "      <td>1</td>\n",
              "      <td>1</td>\n",
              "      <td>1</td>\n",
              "      <td>0</td>\n",
              "      <td>1</td>\n",
              "      <td>9</td>\n",
              "      <td>1</td>\n",
              "      <td>0</td>\n",
              "      <td>0</td>\n",
              "    </tr>\n",
              "  </tbody>\n",
              "</table>\n",
              "</div>"
            ],
            "text/plain": [
              "   target  Age  Sex  on_thyroxine  ...  T4U  FTI_measured  FTI  TBG_measured\n",
              "0       1    8  0.0             0  ...    9             1    0             0\n",
              "1       1    0  1.0             1  ...    8             1    0             0\n",
              "2       1    0  0.0             0  ...    5             1    0             0\n",
              "3       1    0  1.0             0  ...    6             1    0             0\n",
              "4       1    8  0.0             0  ...    9             1    0             0\n",
              "\n",
              "[5 rows x 25 columns]"
            ]
          },
          "metadata": {
            "tags": []
          }
        }
      ]
    },
    {
      "cell_type": "code",
      "metadata": {
        "colab": {
          "base_uri": "https://localhost:8080/"
        },
        "id": "wvRGvuQI4Vim",
        "outputId": "f1bd08bf-3ffe-48dc-d1c6-95911c0b0035"
      },
      "source": [
        "corr_values = abs(data[data.columns[0:]].corr()['target'][:])\n",
        "corr_values = corr_values.drop('target')\n",
        "corr_values = corr_values[corr_values > 0.10]\n",
        "corr_values"
      ],
      "execution_count": 47,
      "outputs": [
        {
          "output_type": "execute_result",
          "data": {
            "text/plain": [
              "TSH    0.372181\n",
              "T3     0.202297\n",
              "TT4    0.345405\n",
              "T4U    0.109854\n",
              "FTI    0.355763\n",
              "Name: target, dtype: float64"
            ]
          },
          "metadata": {
            "tags": []
          },
          "execution_count": 47
        }
      ]
    },
    {
      "cell_type": "code",
      "metadata": {
        "id": "-A3i2AsG4YjC"
      },
      "source": [
        "def holdout(dataframe):\n",
        "  x = dataframe[corr_values.index]\n",
        "  y = dataframe['target']\n",
        "  X_train, X_test, y_train, y_test = train_test_split(x, y, test_size=0.33) \n",
        "  return X_train, X_test, y_train, y_test\n",
        "\n",
        "X_train, X_test, y_train, y_test = holdout(data)"
      ],
      "execution_count": 48,
      "outputs": []
    },
    {
      "cell_type": "code",
      "metadata": {
        "id": "xfcWUJBo4aeO"
      },
      "source": [
        "classifiers = {\n",
        "    \"XGBClassifier\" : XGBClassifier(learning_rate=0.01),\n",
        "    \"CatBoostClassifier\" : CatBoostClassifier(max_depth=3,verbose=0),\n",
        "    \"Nearest Neighbors\" : KNeighborsClassifier(3),\n",
        "    \"Decision Tree\" : DecisionTreeClassifier(max_depth=5),\n",
        "    \"Naive Bayes\" : GaussianNB()\n",
        "}"
      ],
      "execution_count": 49,
      "outputs": []
    },
    {
      "cell_type": "code",
      "metadata": {
        "colab": {
          "base_uri": "https://localhost:8080/",
          "height": 235
        },
        "id": "MfRFjDbu4cdm",
        "outputId": "88c2ddee-83fe-4ed7-8894-fe95a170ed39"
      },
      "source": [
        "def classification(classifiers):\n",
        "    # Creo un dataframe per visualizzare i risultati calcolati\n",
        "  res = pd.DataFrame(columns=[\"Classifier\", \n",
        "                                \"Accuracy\", \n",
        "                                \"Precision\", \n",
        "                                \"Recall\", \n",
        "                                \"FScore\"])\n",
        "  for name, clf in classifiers.items():\n",
        "            clf.fit(X_train, y_train)\n",
        "            y_pred = clf.predict(X_test)\n",
        "            pr, rc, fs, sup = metrics.precision_recall_fscore_support(y_test, y_pred, average='macro')\n",
        "            res = res.append({\"Classifier\": name,\"Accuracy\": round(metrics.accuracy_score(y_test, y_pred), 4),\n",
        "                              \"Precision\": round(pr, 4), \"Recall\":round(rc, 4), \"FScore\":round(fs, 4)}, ignore_index=True)\n",
        "                 \n",
        "  res.set_index(\"Accuracy\", inplace=True)\n",
        "  res.sort_values(by=\"Accuracy\", ascending=False, inplace=True)   \n",
        "  return res\n",
        "\n",
        "display(classification(classifiers))"
      ],
      "execution_count": 50,
      "outputs": [
        {
          "output_type": "display_data",
          "data": {
            "text/html": [
              "<div>\n",
              "<style scoped>\n",
              "    .dataframe tbody tr th:only-of-type {\n",
              "        vertical-align: middle;\n",
              "    }\n",
              "\n",
              "    .dataframe tbody tr th {\n",
              "        vertical-align: top;\n",
              "    }\n",
              "\n",
              "    .dataframe thead th {\n",
              "        text-align: right;\n",
              "    }\n",
              "</style>\n",
              "<table border=\"1\" class=\"dataframe\">\n",
              "  <thead>\n",
              "    <tr style=\"text-align: right;\">\n",
              "      <th></th>\n",
              "      <th>Classifier</th>\n",
              "      <th>Precision</th>\n",
              "      <th>Recall</th>\n",
              "      <th>FScore</th>\n",
              "    </tr>\n",
              "    <tr>\n",
              "      <th>Accuracy</th>\n",
              "      <th></th>\n",
              "      <th></th>\n",
              "      <th></th>\n",
              "      <th></th>\n",
              "    </tr>\n",
              "  </thead>\n",
              "  <tbody>\n",
              "    <tr>\n",
              "      <th>0.9792</th>\n",
              "      <td>CatBoostClassifier</td>\n",
              "      <td>0.8903</td>\n",
              "      <td>0.9179</td>\n",
              "      <td>0.9036</td>\n",
              "    </tr>\n",
              "    <tr>\n",
              "      <th>0.9761</th>\n",
              "      <td>XGBClassifier</td>\n",
              "      <td>0.8706</td>\n",
              "      <td>0.9163</td>\n",
              "      <td>0.8919</td>\n",
              "    </tr>\n",
              "    <tr>\n",
              "      <th>0.9740</th>\n",
              "      <td>Decision Tree</td>\n",
              "      <td>0.8585</td>\n",
              "      <td>0.9152</td>\n",
              "      <td>0.8844</td>\n",
              "    </tr>\n",
              "    <tr>\n",
              "      <th>0.9730</th>\n",
              "      <td>Nearest Neighbors</td>\n",
              "      <td>0.8589</td>\n",
              "      <td>0.8969</td>\n",
              "      <td>0.8768</td>\n",
              "    </tr>\n",
              "    <tr>\n",
              "      <th>0.9699</th>\n",
              "      <td>Naive Bayes</td>\n",
              "      <td>0.8305</td>\n",
              "      <td>0.9396</td>\n",
              "      <td>0.8759</td>\n",
              "    </tr>\n",
              "  </tbody>\n",
              "</table>\n",
              "</div>"
            ],
            "text/plain": [
              "                  Classifier  Precision  Recall  FScore\n",
              "Accuracy                                               \n",
              "0.9792    CatBoostClassifier     0.8903  0.9179  0.9036\n",
              "0.9761         XGBClassifier     0.8706  0.9163  0.8919\n",
              "0.9740         Decision Tree     0.8585  0.9152  0.8844\n",
              "0.9730     Nearest Neighbors     0.8589  0.8969  0.8768\n",
              "0.9699           Naive Bayes     0.8305  0.9396  0.8759"
            ]
          },
          "metadata": {
            "tags": []
          }
        }
      ]
    }
  ]
}